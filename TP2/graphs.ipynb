{
 "cells": [
  {
   "cell_type": "code",
   "execution_count": null,
   "metadata": {},
   "outputs": [],
   "source": [
    "import os\n",
    "import numpy as np\n",
    "import pandas as pd\n",
    "import matplotlib.pyplot as plt\n",
    "from IPython.display import display"
   ]
  },
  {
   "cell_type": "code",
   "execution_count": null,
   "metadata": {},
   "outputs": [],
   "source": [
    "path = \"/home/tomasbm/Desktop/EvolvingCars/Results\"\n",
    "def get_dataframe(file):\n",
    "    file_path = f\"{path}/{file}/EvolutionLog.csv\"\n",
    "    rows = pd.read_csv(file_path, skiprows = [0], header = None)\n",
    "    rows = rows.dropna(axis=1, how='all')\n",
    "    rows.columns = pd.read_csv(file_path, nrows=0).columns\n",
    "    \n",
    "    return rows"
   ]
  },
  {
   "cell_type": "code",
   "execution_count": null,
   "metadata": {},
   "outputs": [],
   "source": [
    "for i in os.listdir(path):\n",
    "    files = os.listdir(f\"{path}/{i}\")\n",
    "    \n",
    "    if files != []:\n",
    "        full_path = f\"{path}/{i}/EvolutionLog.csv\"    \n",
    "        rows = pd.read_csv(full_path, skiprows = [0], header = None)\n",
    "        rows = rows.dropna(axis=1, how='all')\n",
    "        rows.columns = pd.read_csv(f\"{path}/{i}/{files[1]}\", nrows=0).columns\n",
    "        \n",
    "        #rows.plot(x = 'Generation', y = ['BestFitness', 'AverageFitnessPopulation'], figsize=(20,8))#.get_figure().savefig('name')\n",
    "        rows.plot(x = 'Generation', y = ['BestFitness', 'AverageFitnessPopulation', 'BestCarMass'], figsize=(20,8))\n",
    "    "
   ]
  },
  {
   "cell_type": "code",
   "execution_count": null,
   "metadata": {},
   "outputs": [],
   "source": []
  },
  {
   "cell_type": "code",
   "execution_count": null,
   "metadata": {},
   "outputs": [],
   "source": [
    "# MaxDistance + MaxVelocity + MaxDistanceTime - NumberOfWheels\n",
    "\n",
    "file = \"GapRoad-2022-05-4-18-09-41-crossProb-0.9-elite-0-mutProb-0.05-tournamenteSize-5\"\n",
    "file2 = \"GapRoad-2022-05-4-17-27-49-crossProb-0.9-elite-0-mutProb-0.05-tournamenteSize-5\"\n",
    "\n",
    "rows = get_dataframe(file)\n",
    "rows2 = get_dataframe(file2)"
   ]
  },
  {
   "cell_type": "code",
   "execution_count": null,
   "metadata": {},
   "outputs": [],
   "source": [
    "rows"
   ]
  },
  {
   "cell_type": "code",
   "execution_count": null,
   "metadata": {},
   "outputs": [],
   "source": [
    "rows2"
   ]
  },
  {
   "cell_type": "code",
   "execution_count": null,
   "metadata": {},
   "outputs": [],
   "source": [
    "# (MaxDistanceTime / 2) * (MaxDistance + MaxVelocity) - NumberOfWheels\n",
    "    \n",
    "file = 'GapRoad-2022-05-4-21-04-15-crossProb-0.9-elite-0-mutProb-0.05-tournamenteSize-5'\n",
    "file2 = 'GapRoad-2022-05-4-21-43-27-crossProb-0.9-elite-0-mutProb-0.05-tournamenteSize-5'\n",
    "\n",
    "rows = get_dataframe(file)\n",
    "rows2 = get_dataframe(file2)"
   ]
  },
  {
   "cell_type": "code",
   "execution_count": null,
   "metadata": {},
   "outputs": [],
   "source": [
    "rows.plot(x = 'Generation', y = ['AverageFitnessPopulation', 'BestCarMass'], figsize=(20,8))"
   ]
  },
  {
   "cell_type": "code",
   "execution_count": null,
   "metadata": {},
   "outputs": [],
   "source": [
    "rows"
   ]
  },
  {
   "cell_type": "code",
   "execution_count": null,
   "metadata": {},
   "outputs": [],
   "source": [
    "# fitness = (MaxDistanceTime / 2) * (MaxDistance) + MaxVelocity - NumberOfWheels + (5000 * IsRoadComplete);\n",
    "\n",
    "file = 'GapRoad-2022-06-4-09-36-35-crossProb-0.9-elite-0-mutProb-0.05-tournamenteSize-5'"
   ]
  },
  {
   "cell_type": "code",
   "execution_count": null,
   "metadata": {},
   "outputs": [],
   "source": [
    "# fitness = (MaxDistanceTime) * (MaxDistance + MaxVelocity) - NumberOfWheels + (10000 * IsRoadComplete);\n",
    "\n",
    "file = 'GapRoad-2022-06-4-10-14-37-crossProb-0.9-elite-0-mutProb-0.05-tournamenteSize-5'\n",
    "\n",
    "rows = get_dataframe(file)"
   ]
  },
  {
   "cell_type": "code",
   "execution_count": null,
   "metadata": {},
   "outputs": [],
   "source": [
    "rows"
   ]
  },
  {
   "cell_type": "code",
   "execution_count": null,
   "metadata": {},
   "outputs": [],
   "source": [
    "rows.plot(x = 'Generation', y = ['AverageFitnessPopulation', 'BestNumberOfWheels'], figsize=(20,8))"
   ]
  },
  {
   "cell_type": "code",
   "execution_count": null,
   "metadata": {},
   "outputs": [],
   "source": [
    "# fitness = (MaxDistanceTime * (MaxDistance + MaxVelocity)) / (CarMass / 2) + (10000 * IsRoadComplete);\n",
    "\n",
    "file = 'GapRoad-2022-06-4-14-59-39-crossProb-0.9-elite-0-mutProb-0.05-tournamenteSize-5'\n",
    "rows = get_dataframe(file)\n",
    "rows.plot(x = 'Generation', y = ['AverageFitnessPopulation', 'BestCarMass'], figsize=(20,8))"
   ]
  },
  {
   "cell_type": "code",
   "execution_count": null,
   "metadata": {},
   "outputs": [],
   "source": [
    "file = 'HillRoad-2022-04-5-20-20-14-crossProb-0.9-elite-2-mutProb-0.05-tournamenteSize-5'\n",
    "rows = get_dataframe(file)\n",
    "rows.plot(x = 'Generation', y = ['BestFitness'], figsize=(20,8))"
   ]
  },
  {
   "cell_type": "code",
   "execution_count": null,
   "metadata": {},
   "outputs": [],
   "source": [
    "rows"
   ]
  },
  {
   "cell_type": "code",
   "execution_count": null,
   "metadata": {},
   "outputs": [],
   "source": [
    "file = 'HillRoad-2022-11-5-18-00-45-crossProb-0.9-elite-2-mutProb-0.05-tournamenteSize-5'\n",
    "rows = get_dataframe(file)\n",
    "rows.plot(x = 'Generation', y = ['BestFitness'], figsize=(20,8))"
   ]
  },
  {
   "cell_type": "code",
   "execution_count": null,
   "metadata": {},
   "outputs": [],
   "source": [
    "rows"
   ]
  },
  {
   "cell_type": "code",
   "execution_count": null,
   "metadata": {},
   "outputs": [],
   "source": [
    "\"\"\"\n",
    "no good cars\n",
    "float w1 = 400f, \n",
    "w2 = 150f,\n",
    "w3 = 350f,\n",
    "w4 = 0f,\n",
    "w5 = -100f,\n",
    "w6 = 30000f\n",
    "\"\"\"\n",
    "\n",
    "files = [\n",
    "'HillRoad-2022-14-5-15-37-42-crossProb-0.9-elite-2-mutProb-0.05-tournamenteSize-5',\n",
    "'HillRoad-2022-14-5-16-04-20-crossProb-0.9-elite-2-mutProb-0.05-tournamenteSize-5',\n",
    "'HillRoad-2022-14-5-16-32-20-crossProb-0.9-elite-2-mutProb-0.05-tournamenteSize-5'\n",
    "]\n",
    "\n",
    "for file in files:\n",
    "    rows = get_dataframe(file)\n",
    "    #rows.plot(x = 'Generation', y = ['BestFitness'], figsize=(20,8))\n",
    "    display(rows)\n",
    "\n"
   ]
  },
  {
   "cell_type": "code",
   "execution_count": null,
   "metadata": {},
   "outputs": [],
   "source": [
    "\"\"\"\n",
    "float w1 = 400f, \n",
    "w2 = 150f,\n",
    "w3 = 350f,\n",
    "w4 = c.NumberOfWheels > 7 && c.NumberOfWheels < 9 ? 10f : -10f,\n",
    "w5 = c.CarMass > 140 && c.CarMass < 142 ? 100f : -100f,\n",
    "w6 = 30000f\n",
    "\"\"\"\n",
    "files = [\n",
    "'HillRoad-2022-14-5-16-59-51-crossProb-0.9-elite-2-mutProb-0.05-tournamenteSize-5',\n",
    "'HillRoad-2022-14-5-17-27-58-crossProb-0.9-elite-2-mutProb-0.05-tournamenteSize-5', \n",
    "'HillRoad-2022-14-5-17-57-32-crossProb-0.9-elite-2-mutProb-0.05-tournamenteSize-5'\n",
    "]\n",
    "\n",
    "#file = 'HillRoad-2022-14-5-16-59-51-crossProb-0.9-elite-2-mutProb-0.05-tournamenteSize-5'\n",
    "#file = 'HillRoad-2022-14-5-17-27-58-crossProb-0.9-elite-2-mutProb-0.05-tournamenteSize-5'\n",
    "#file = 'HillRoad-2022-14-5-17-57-32-crossProb-0.9-elite-2-mutProb-0.05-tournamenteSize-5'\n",
    "\n",
    "\n",
    "for file in files:\n",
    "    rows = get_dataframe(file)\n",
    "    #rows.plot(x = 'Generation', y = ['BestFitness'], figsize=(20,8))\n",
    "    display(rows)\n",
    "\n"
   ]
  },
  {
   "cell_type": "code",
   "execution_count": null,
   "metadata": {},
   "outputs": [],
   "source": [
    "\"\"\"\n",
    "// 3/3 experiences done\n",
    "// no good cars\n",
    "float w1 = 150, \n",
    "w2 = 0,\n",
    "w3 = 100,    \n",
    "w4 = c.NumberOfWheels >= 7 && c.NumberOfWheels < 9 ? 25f : -25f,\n",
    "w5 = c.CarMass > 120 && c.CarMass < 143 ? 50f : -50f,\n",
    "w6 = 20000f\n",
    "                ;\n",
    "\"\"\"\n",
    "\n",
    "files = [\n",
    "'HillRoad-2022-15-5-12-57-45-crossProb-0.9-elite-2-mutProb-0.05-tournamenteSize-5',\n",
    "'HillRoad-2022-15-5-13-25-27-crossProb-0.9-elite-2-mutProb-0.05-tournamenteSize-5', \n",
    "'HillRoad-2022-15-5-13-53-21-crossProb-0.9-elite-2-mutProb-0.05-tournamenteSize-5'\n",
    "]\n",
    "\n",
    "for file in files:\n",
    "    rows = get_dataframe(file)\n",
    "    #rows.plot(x = 'Generation', y = ['BestFitness'], figsize=(20,8))\n",
    "    display(rows)"
   ]
  },
  {
   "cell_type": "code",
   "execution_count": null,
   "metadata": {},
   "outputs": [],
   "source": [
    "\"\"\"\n",
    "float w1 = 150f, \n",
    "                    w2 = 50f,\n",
    "                    w3 = 100f,\n",
    "                    w4 = c.NumberOfWheels >= 7 && c.NumberOfWheels < 9 ? 25f : -25f,\n",
    "                    w5 = c.CarMass > 120 && c.CarMass < 143 ? 50f : -50f,\n",
    "                    w6 = 20000f\n",
    "                ;\n",
    "\"\"\"\n",
    "\n",
    "files = [\n",
    "'HillRoad-2022-15-5-15-01-20-crossProb-0.9-elite-2-mutProb-0.05-tournamenteSize-5',\n",
    "'HillRoad-2022-15-5-15-24-35-crossProb-0.9-elite-2-mutProb-0.05-tournamenteSize-5', \n",
    "'HillRoad-2022-15-5-15-56-16-crossProb-0.9-elite-2-mutProb-0.05-tournamenteSize-5'\n",
    "]\n",
    "\n",
    "for file in files:\n",
    "    rows = get_dataframe(file)\n",
    "    #rows.plot(x = 'Generation', y = ['BestFitness'], figsize=(20,8))\n",
    "    display(rows)"
   ]
  },
  {
   "cell_type": "code",
   "execution_count": null,
   "metadata": {},
   "outputs": [],
   "source": [
    "\"\"\"\n",
    "// 3/3 - NO GOOD CARS\n",
    "float w1 = 150f, \n",
    "w2 = 50f,\n",
    "w3 = 150f,\n",
    "w4 = c.NumberOfWheels >= 7 && c.NumberOfWheels < 9 ? 60f : -60f,\n",
    " w5 = c.CarMass > 139 && c.CarMass < 143 ? 50f : -50f,\n",
    "w6 = 20000f\n",
    ";\n",
    "\"\"\"\n",
    "\n",
    "files = [\n",
    "'HillRoad-2022-16-5-10-20-02-crossProb-0.9-elite-2-mutProb-0.05-tournamenteSize-5',\n",
    "'HillRoad-2022-16-5-10-46-14-crossProb-0.9-elite-2-mutProb-0.05-tournamenteSize-5', \n",
    "'HillRoad-2022-16-5-11-12-27-crossProb-0.9-elite-2-mutProb-0.05-tournamenteSize-5'\n",
    "]\n",
    "\n",
    "for file in files:\n",
    "    rows = get_dataframe(file)\n",
    "    #rows.plot(x = 'Generation', y = ['BestFitness'], figsize=(20,8))\n",
    "    display(rows)\n",
    "\n"
   ]
  },
  {
   "cell_type": "code",
   "execution_count": null,
   "metadata": {},
   "outputs": [],
   "source": [
    "\"\"\"\n",
    "// 3/3 - no good cars\n",
    "                float w1 = 150f, \n",
    "                    w2 = 50f,\n",
    "                    w3 = 150f,\n",
    "                    w4 = c.NumberOfWheels >= 7 && c.NumberOfWheels < 9 ? 80f : -80f,\n",
    "                    //w5 = c.CarMass > 139 && c.CarMass < 143 ? 50f : -50f,\n",
    "                    w5 = -50,\n",
    "                    w6 = 20000f\n",
    "                ;\n",
    "\"\"\"\n",
    "\n",
    "files = [\n",
    "'HillRoad-2022-16-5-12-03-16-crossProb-0.9-elite-2-mutProb-0.05-tournamenteSize-5',\n",
    "'HillRoad-2022-16-5-12-39-11-crossProb-0.9-elite-2-mutProb-0.05-tournamenteSize-5', \n",
    "'HillRoad-2022-16-5-13-07-22-crossProb-0.9-elite-2-mutProb-0.05-tournamenteSize-5'\n",
    "]\n",
    "\n",
    "for file in files:\n",
    "    rows = get_dataframe(file)\n",
    "    #rows.plot(x = 'Generation', y = ['BestFitness'], figsize=(20,8))\n",
    "    display(rows)\n"
   ]
  },
  {
   "cell_type": "code",
   "execution_count": null,
   "metadata": {},
   "outputs": [],
   "source": []
  },
  {
   "cell_type": "code",
   "execution_count": null,
   "metadata": {},
   "outputs": [],
   "source": [
    "\"\"\"\n",
    "float w1 = 200f, \n",
    "                    w2 = 50f,\n",
    "                    w3 = 150f,\n",
    "                    w4 = c.NumberOfWheels >= 7 && c.NumberOfWheels < 9 ? 80f : -80f,\n",
    "                    w5 = c.CarMass > 139 && c.CarMass < 143 ? 70f : -70f,\n",
    "                    w6 = 20000f\n",
    "                ;\n",
    "\"\"\"\n",
    "\n",
    "files = [\n",
    "'HillRoad-2022-16-5-13-48-55-crossProb-0.9-elite-2-mutProb-0.05-tournamenteSize-5',\n",
    "'HillRoad-2022-16-5-14-15-20-crossProb-0.9-elite-2-mutProb-0.05-tournamenteSize-5', \n",
    "'HillRoad-2022-16-5-14-53-13-crossProb-0.9-elite-2-mutProb-0.05-tournamenteSize-5'\n",
    "]\n",
    "\n",
    "for file in files:\n",
    "    rows = get_dataframe(file)\n",
    "    #rows.plot(x = 'Generation', y = ['BestFitness'], figsize=(20,8))\n",
    "    display(rows)\n"
   ]
  },
  {
   "cell_type": "code",
   "execution_count": null,
   "metadata": {},
   "outputs": [],
   "source": [
    "\"\"\"\n",
    "float w1 = 200f, \n",
    "                    w2 = 50f,\n",
    "                    w3 = 150f,\n",
    "                    w4 = c.NumberOfWheels >= 7 && c.NumberOfWheels < 9 ? 80f : -80f,\n",
    "                    w5 = c.CarMass > 100 && c.CarMass < 143 ? 70f : -70f,\n",
    "                    w6 = 20000f\n",
    "                ;\n",
    "\"\"\"\n",
    "\n",
    "files = [\n",
    "'HillRoad-2022-16-5-15-29-45-crossProb-0.9-elite-2-mutProb-0.05-tournamenteSize-5',\n",
    "'HillRoad-2022-16-5-15-56-56-crossProb-0.9-elite-2-mutProb-0.05-tournamenteSize-5', \n",
    "'HillRoad-2022-16-5-16-26-04-crossProb-0.9-elite-2-mutProb-0.05-tournamenteSize-5'\n",
    "]\n",
    "\n",
    "for file in files:\n",
    "    rows = get_dataframe(file)\n",
    "    #rows.plot(x = 'Generation', y = ['BestFitness'], figsize=(20,8))\n",
    "    display(rows)\n"
   ]
  },
  {
   "cell_type": "code",
   "execution_count": null,
   "metadata": {},
   "outputs": [],
   "source": [
    "\"\"\"\n",
    " float w1 = 200f,\n",
    "                    w2 = 0,\n",
    "                    w3 = 50f,\n",
    "                    w4 = c.NumberOfWheels >= 7 && c.NumberOfWheels < 9 ? 80f : -80f,\n",
    "                    w5 = 0f,\n",
    "                    w6 = 20000f,\n",
    "                    w7 = ((c.MaxDistance + 0.1f) / (c.MaxDistanceTime + 0.1f)) * 5f // Mean velocity\n",
    "                ;\n",
    "\n",
    "\"\"\"\n",
    "\n",
    "\n",
    "files = [\n",
    "'HillRoad-2022-16-5-18-41-17-crossProb-0.9-elite-2-mutProb-0.05-tournamenteSize-5',\n",
    "'HillRoad-2022-16-5-19-15-20-crossProb-0.9-elite-2-mutProb-0.05-tournamenteSize-5', \n",
    "'HillRoad-2022-16-5-19-40-14-crossProb-0.9-elite-2-mutProb-0.05-tournamenteSize-5'\n",
    "]\n",
    "\n",
    "for file in files:\n",
    "    rows = get_dataframe(file)\n",
    "    #rows.plot(x = 'Generation', y = ['BestFitness'], figsize=(20,8))\n",
    "    display(rows)\n",
    "\n",
    "\n"
   ]
  },
  {
   "cell_type": "code",
   "execution_count": null,
   "metadata": {},
   "outputs": [],
   "source": [
    "\"\"\"\n",
    "    float w1 = 50f,\n",
    "                    w2 = 0f,\n",
    "                    w3 = 0f,\n",
    "                    w4 = 0f,\n",
    "                    w5 = 0f,\n",
    "                    w6 = 20000f,\n",
    "                    w7 = ((c.MaxDistance + 0.1f) / (c.MaxDistanceTime + 0.1f)) * 5f // Mean velocity\n",
    "                ;\n",
    "\"\"\"\n",
    "\n",
    "file = 'HillRoad-2022-16-5-22-10-54-crossProb-0.9-elite-2-mutProb-0.05-tournamenteSize-5'"
   ]
  },
  {
   "cell_type": "code",
   "execution_count": null,
   "metadata": {},
   "outputs": [],
   "source": [
    "\"\"\"\n",
    "// 3/3 done, 2 got cars to the end\n",
    "                float w1 = 50f,\n",
    "                    w2 = 0f,\n",
    "                    w3 = 30f,\n",
    "                    w4 = 0f,\n",
    "                    w5 = 0f,\n",
    "                    w6 = 20000f,\n",
    "                    w7 = ((c.MaxDistance + 0.1f) / (c.MaxDistanceTime + 0.1f)) * 5f // Mean velocity\n",
    "                ;\n",
    "\"\"\"\n",
    "\n",
    "files = [\n",
    "'HillRoad-2022-17-5-09-59-46-crossProb-0.9-elite-2-mutProb-0.05-tournamenteSize-5',\n",
    "'HillRoad-2022-17-5-11-29-04-crossProb-0.9-elite-2-mutProb-0.05-tournamenteSize-5', \n",
    "'HillRoad-2022-17-5-13-24-07-crossProb-0.9-elite-2-mutProb-0.05-tournamenteSize-5'\n",
    "]\n",
    "\n",
    "for file in files:\n",
    "    rows = get_dataframe(file)\n",
    "    #rows.plot(x = 'Generation', y = ['BestFitness'], figsize=(20,8))\n",
    "    display(rows)\n"
   ]
  }
 ],
 "metadata": {
  "interpreter": {
   "hash": "f68e854e4b20820209d0f8ba893f8000b2209ddc3f7d0805536e34daec0c5d0f"
  },
  "kernelspec": {
   "display_name": "Python 3.9.7 ('base')",
   "language": "python",
   "name": "python3"
  },
  "language_info": {
   "codemirror_mode": {
    "name": "ipython",
    "version": 3
   },
   "file_extension": ".py",
   "mimetype": "text/x-python",
   "name": "python",
   "nbconvert_exporter": "python",
   "pygments_lexer": "ipython3",
   "version": "3.9.7"
  },
  "orig_nbformat": 4
 },
 "nbformat": 4,
 "nbformat_minor": 2
}
